{
  "nbformat": 4,
  "nbformat_minor": 0,
  "metadata": {
    "colab": {
      "name": "heartdiseaseprediction.ipynb",
      "provenance": [],
      "authorship_tag": "ABX9TyMDFYNZnAdQ3XxOMd+1BVew",
      "include_colab_link": true
    },
    "kernelspec": {
      "name": "python3",
      "display_name": "Python 3"
    },
    "language_info": {
      "name": "python"
    },
    "accelerator": "GPU"
  },
  "cells": [
    {
      "cell_type": "markdown",
      "metadata": {
        "id": "view-in-github",
        "colab_type": "text"
      },
      "source": [
        "<a href=\"https://colab.research.google.com/github/Wayne213/kbsproject/blob/main/heartdiseaseprediction.ipynb\" target=\"_parent\"><img src=\"https://colab.research.google.com/assets/colab-badge.svg\" alt=\"Open In Colab\"/></a>"
      ]
    },
    {
      "cell_type": "code",
      "metadata": {
        "id": "Lv7K1hGzD5WS"
      },
      "source": [
        "# R178512E ANESU CHITSIKU\n",
        "# R178527F RUMBIDZAI MUSENDO\n",
        "# R178495N WAYNE MAISENI\n",
        "\n",
        "#HEART DISEASE PREDICTION MODEL\n",
        "\n",
        "# Import libraries\n",
        "import numpy as np\n",
        "import pandas as pd\n",
        "import tensorflow as tf"
      ],
      "execution_count": null,
      "outputs": []
    },
    {
      "cell_type": "code",
      "metadata": {
        "colab": {
          "base_uri": "https://localhost:8080/"
        },
        "id": "sRAGgshKEKc1",
        "outputId": "cb6a1463-d30d-49bf-f71a-3e2dcab5954d"
      },
      "source": [
        "# Importing dataset\n",
        "from google.colab import drive\n",
        "drive.mount('/content/drive')"
      ],
      "execution_count": null,
      "outputs": [
        {
          "output_type": "stream",
          "text": [
            "Mounted at /content/drive\n"
          ],
          "name": "stdout"
        }
      ]
    },
    {
      "cell_type": "code",
      "metadata": {
        "id": "EzE4hymnEVl_"
      },
      "source": [
        "#Importing the dataset\n",
        "dataset=pd.read_csv('/content/drive/My Drive/KBS Assignment1/heart.csv')"
      ],
      "execution_count": null,
      "outputs": []
    },
    {
      "cell_type": "code",
      "metadata": {
        "colab": {
          "base_uri": "https://localhost:8080/",
          "height": 665
        },
        "id": "UjewhZ8WEZXu",
        "outputId": "1402e41c-fcbd-4e93-fa14-ae954d690e26"
      },
      "source": [
        "dataset.head(20)"
      ],
      "execution_count": null,
      "outputs": [
        {
          "output_type": "execute_result",
          "data": {
            "text/html": [
              "<div>\n",
              "<style scoped>\n",
              "    .dataframe tbody tr th:only-of-type {\n",
              "        vertical-align: middle;\n",
              "    }\n",
              "\n",
              "    .dataframe tbody tr th {\n",
              "        vertical-align: top;\n",
              "    }\n",
              "\n",
              "    .dataframe thead th {\n",
              "        text-align: right;\n",
              "    }\n",
              "</style>\n",
              "<table border=\"1\" class=\"dataframe\">\n",
              "  <thead>\n",
              "    <tr style=\"text-align: right;\">\n",
              "      <th></th>\n",
              "      <th>age</th>\n",
              "      <th>sex</th>\n",
              "      <th>cp</th>\n",
              "      <th>trestbps</th>\n",
              "      <th>chol</th>\n",
              "      <th>fbs</th>\n",
              "      <th>restecg</th>\n",
              "      <th>thalach</th>\n",
              "      <th>exang</th>\n",
              "      <th>oldpeak</th>\n",
              "      <th>slope</th>\n",
              "      <th>ca</th>\n",
              "      <th>thal</th>\n",
              "      <th>target</th>\n",
              "    </tr>\n",
              "  </thead>\n",
              "  <tbody>\n",
              "    <tr>\n",
              "      <th>0</th>\n",
              "      <td>63</td>\n",
              "      <td>1</td>\n",
              "      <td>3</td>\n",
              "      <td>145</td>\n",
              "      <td>233</td>\n",
              "      <td>1</td>\n",
              "      <td>0</td>\n",
              "      <td>150</td>\n",
              "      <td>0</td>\n",
              "      <td>2.3</td>\n",
              "      <td>0</td>\n",
              "      <td>0</td>\n",
              "      <td>1</td>\n",
              "      <td>1</td>\n",
              "    </tr>\n",
              "    <tr>\n",
              "      <th>1</th>\n",
              "      <td>37</td>\n",
              "      <td>1</td>\n",
              "      <td>2</td>\n",
              "      <td>130</td>\n",
              "      <td>250</td>\n",
              "      <td>0</td>\n",
              "      <td>1</td>\n",
              "      <td>187</td>\n",
              "      <td>0</td>\n",
              "      <td>3.5</td>\n",
              "      <td>0</td>\n",
              "      <td>0</td>\n",
              "      <td>2</td>\n",
              "      <td>1</td>\n",
              "    </tr>\n",
              "    <tr>\n",
              "      <th>2</th>\n",
              "      <td>41</td>\n",
              "      <td>0</td>\n",
              "      <td>1</td>\n",
              "      <td>130</td>\n",
              "      <td>204</td>\n",
              "      <td>0</td>\n",
              "      <td>0</td>\n",
              "      <td>172</td>\n",
              "      <td>0</td>\n",
              "      <td>1.4</td>\n",
              "      <td>2</td>\n",
              "      <td>0</td>\n",
              "      <td>2</td>\n",
              "      <td>1</td>\n",
              "    </tr>\n",
              "    <tr>\n",
              "      <th>3</th>\n",
              "      <td>56</td>\n",
              "      <td>1</td>\n",
              "      <td>1</td>\n",
              "      <td>120</td>\n",
              "      <td>236</td>\n",
              "      <td>0</td>\n",
              "      <td>1</td>\n",
              "      <td>178</td>\n",
              "      <td>0</td>\n",
              "      <td>0.8</td>\n",
              "      <td>2</td>\n",
              "      <td>0</td>\n",
              "      <td>2</td>\n",
              "      <td>1</td>\n",
              "    </tr>\n",
              "    <tr>\n",
              "      <th>4</th>\n",
              "      <td>57</td>\n",
              "      <td>0</td>\n",
              "      <td>0</td>\n",
              "      <td>120</td>\n",
              "      <td>354</td>\n",
              "      <td>0</td>\n",
              "      <td>1</td>\n",
              "      <td>163</td>\n",
              "      <td>1</td>\n",
              "      <td>0.6</td>\n",
              "      <td>2</td>\n",
              "      <td>0</td>\n",
              "      <td>2</td>\n",
              "      <td>1</td>\n",
              "    </tr>\n",
              "    <tr>\n",
              "      <th>5</th>\n",
              "      <td>57</td>\n",
              "      <td>1</td>\n",
              "      <td>0</td>\n",
              "      <td>140</td>\n",
              "      <td>192</td>\n",
              "      <td>0</td>\n",
              "      <td>1</td>\n",
              "      <td>148</td>\n",
              "      <td>0</td>\n",
              "      <td>0.4</td>\n",
              "      <td>1</td>\n",
              "      <td>0</td>\n",
              "      <td>1</td>\n",
              "      <td>1</td>\n",
              "    </tr>\n",
              "    <tr>\n",
              "      <th>6</th>\n",
              "      <td>56</td>\n",
              "      <td>0</td>\n",
              "      <td>1</td>\n",
              "      <td>140</td>\n",
              "      <td>294</td>\n",
              "      <td>0</td>\n",
              "      <td>0</td>\n",
              "      <td>153</td>\n",
              "      <td>0</td>\n",
              "      <td>1.3</td>\n",
              "      <td>1</td>\n",
              "      <td>0</td>\n",
              "      <td>2</td>\n",
              "      <td>1</td>\n",
              "    </tr>\n",
              "    <tr>\n",
              "      <th>7</th>\n",
              "      <td>44</td>\n",
              "      <td>1</td>\n",
              "      <td>1</td>\n",
              "      <td>120</td>\n",
              "      <td>263</td>\n",
              "      <td>0</td>\n",
              "      <td>1</td>\n",
              "      <td>173</td>\n",
              "      <td>0</td>\n",
              "      <td>0.0</td>\n",
              "      <td>2</td>\n",
              "      <td>0</td>\n",
              "      <td>3</td>\n",
              "      <td>1</td>\n",
              "    </tr>\n",
              "    <tr>\n",
              "      <th>8</th>\n",
              "      <td>52</td>\n",
              "      <td>1</td>\n",
              "      <td>2</td>\n",
              "      <td>172</td>\n",
              "      <td>199</td>\n",
              "      <td>1</td>\n",
              "      <td>1</td>\n",
              "      <td>162</td>\n",
              "      <td>0</td>\n",
              "      <td>0.5</td>\n",
              "      <td>2</td>\n",
              "      <td>0</td>\n",
              "      <td>3</td>\n",
              "      <td>1</td>\n",
              "    </tr>\n",
              "    <tr>\n",
              "      <th>9</th>\n",
              "      <td>57</td>\n",
              "      <td>1</td>\n",
              "      <td>2</td>\n",
              "      <td>150</td>\n",
              "      <td>168</td>\n",
              "      <td>0</td>\n",
              "      <td>1</td>\n",
              "      <td>174</td>\n",
              "      <td>0</td>\n",
              "      <td>1.6</td>\n",
              "      <td>2</td>\n",
              "      <td>0</td>\n",
              "      <td>2</td>\n",
              "      <td>1</td>\n",
              "    </tr>\n",
              "    <tr>\n",
              "      <th>10</th>\n",
              "      <td>54</td>\n",
              "      <td>1</td>\n",
              "      <td>0</td>\n",
              "      <td>140</td>\n",
              "      <td>239</td>\n",
              "      <td>0</td>\n",
              "      <td>1</td>\n",
              "      <td>160</td>\n",
              "      <td>0</td>\n",
              "      <td>1.2</td>\n",
              "      <td>2</td>\n",
              "      <td>0</td>\n",
              "      <td>2</td>\n",
              "      <td>1</td>\n",
              "    </tr>\n",
              "    <tr>\n",
              "      <th>11</th>\n",
              "      <td>48</td>\n",
              "      <td>0</td>\n",
              "      <td>2</td>\n",
              "      <td>130</td>\n",
              "      <td>275</td>\n",
              "      <td>0</td>\n",
              "      <td>1</td>\n",
              "      <td>139</td>\n",
              "      <td>0</td>\n",
              "      <td>0.2</td>\n",
              "      <td>2</td>\n",
              "      <td>0</td>\n",
              "      <td>2</td>\n",
              "      <td>1</td>\n",
              "    </tr>\n",
              "    <tr>\n",
              "      <th>12</th>\n",
              "      <td>49</td>\n",
              "      <td>1</td>\n",
              "      <td>1</td>\n",
              "      <td>130</td>\n",
              "      <td>266</td>\n",
              "      <td>0</td>\n",
              "      <td>1</td>\n",
              "      <td>171</td>\n",
              "      <td>0</td>\n",
              "      <td>0.6</td>\n",
              "      <td>2</td>\n",
              "      <td>0</td>\n",
              "      <td>2</td>\n",
              "      <td>1</td>\n",
              "    </tr>\n",
              "    <tr>\n",
              "      <th>13</th>\n",
              "      <td>64</td>\n",
              "      <td>1</td>\n",
              "      <td>3</td>\n",
              "      <td>110</td>\n",
              "      <td>211</td>\n",
              "      <td>0</td>\n",
              "      <td>0</td>\n",
              "      <td>144</td>\n",
              "      <td>1</td>\n",
              "      <td>1.8</td>\n",
              "      <td>1</td>\n",
              "      <td>0</td>\n",
              "      <td>2</td>\n",
              "      <td>1</td>\n",
              "    </tr>\n",
              "    <tr>\n",
              "      <th>14</th>\n",
              "      <td>58</td>\n",
              "      <td>0</td>\n",
              "      <td>3</td>\n",
              "      <td>150</td>\n",
              "      <td>283</td>\n",
              "      <td>1</td>\n",
              "      <td>0</td>\n",
              "      <td>162</td>\n",
              "      <td>0</td>\n",
              "      <td>1.0</td>\n",
              "      <td>2</td>\n",
              "      <td>0</td>\n",
              "      <td>2</td>\n",
              "      <td>1</td>\n",
              "    </tr>\n",
              "    <tr>\n",
              "      <th>15</th>\n",
              "      <td>50</td>\n",
              "      <td>0</td>\n",
              "      <td>2</td>\n",
              "      <td>120</td>\n",
              "      <td>219</td>\n",
              "      <td>0</td>\n",
              "      <td>1</td>\n",
              "      <td>158</td>\n",
              "      <td>0</td>\n",
              "      <td>1.6</td>\n",
              "      <td>1</td>\n",
              "      <td>0</td>\n",
              "      <td>2</td>\n",
              "      <td>1</td>\n",
              "    </tr>\n",
              "    <tr>\n",
              "      <th>16</th>\n",
              "      <td>58</td>\n",
              "      <td>0</td>\n",
              "      <td>2</td>\n",
              "      <td>120</td>\n",
              "      <td>340</td>\n",
              "      <td>0</td>\n",
              "      <td>1</td>\n",
              "      <td>172</td>\n",
              "      <td>0</td>\n",
              "      <td>0.0</td>\n",
              "      <td>2</td>\n",
              "      <td>0</td>\n",
              "      <td>2</td>\n",
              "      <td>1</td>\n",
              "    </tr>\n",
              "    <tr>\n",
              "      <th>17</th>\n",
              "      <td>66</td>\n",
              "      <td>0</td>\n",
              "      <td>3</td>\n",
              "      <td>150</td>\n",
              "      <td>226</td>\n",
              "      <td>0</td>\n",
              "      <td>1</td>\n",
              "      <td>114</td>\n",
              "      <td>0</td>\n",
              "      <td>2.6</td>\n",
              "      <td>0</td>\n",
              "      <td>0</td>\n",
              "      <td>2</td>\n",
              "      <td>1</td>\n",
              "    </tr>\n",
              "    <tr>\n",
              "      <th>18</th>\n",
              "      <td>43</td>\n",
              "      <td>1</td>\n",
              "      <td>0</td>\n",
              "      <td>150</td>\n",
              "      <td>247</td>\n",
              "      <td>0</td>\n",
              "      <td>1</td>\n",
              "      <td>171</td>\n",
              "      <td>0</td>\n",
              "      <td>1.5</td>\n",
              "      <td>2</td>\n",
              "      <td>0</td>\n",
              "      <td>2</td>\n",
              "      <td>1</td>\n",
              "    </tr>\n",
              "    <tr>\n",
              "      <th>19</th>\n",
              "      <td>69</td>\n",
              "      <td>0</td>\n",
              "      <td>3</td>\n",
              "      <td>140</td>\n",
              "      <td>239</td>\n",
              "      <td>0</td>\n",
              "      <td>1</td>\n",
              "      <td>151</td>\n",
              "      <td>0</td>\n",
              "      <td>1.8</td>\n",
              "      <td>2</td>\n",
              "      <td>2</td>\n",
              "      <td>2</td>\n",
              "      <td>1</td>\n",
              "    </tr>\n",
              "  </tbody>\n",
              "</table>\n",
              "</div>"
            ],
            "text/plain": [
              "    age  sex  cp  trestbps  chol  fbs  ...  exang  oldpeak  slope  ca  thal  target\n",
              "0    63    1   3       145   233    1  ...      0      2.3      0   0     1       1\n",
              "1    37    1   2       130   250    0  ...      0      3.5      0   0     2       1\n",
              "2    41    0   1       130   204    0  ...      0      1.4      2   0     2       1\n",
              "3    56    1   1       120   236    0  ...      0      0.8      2   0     2       1\n",
              "4    57    0   0       120   354    0  ...      1      0.6      2   0     2       1\n",
              "5    57    1   0       140   192    0  ...      0      0.4      1   0     1       1\n",
              "6    56    0   1       140   294    0  ...      0      1.3      1   0     2       1\n",
              "7    44    1   1       120   263    0  ...      0      0.0      2   0     3       1\n",
              "8    52    1   2       172   199    1  ...      0      0.5      2   0     3       1\n",
              "9    57    1   2       150   168    0  ...      0      1.6      2   0     2       1\n",
              "10   54    1   0       140   239    0  ...      0      1.2      2   0     2       1\n",
              "11   48    0   2       130   275    0  ...      0      0.2      2   0     2       1\n",
              "12   49    1   1       130   266    0  ...      0      0.6      2   0     2       1\n",
              "13   64    1   3       110   211    0  ...      1      1.8      1   0     2       1\n",
              "14   58    0   3       150   283    1  ...      0      1.0      2   0     2       1\n",
              "15   50    0   2       120   219    0  ...      0      1.6      1   0     2       1\n",
              "16   58    0   2       120   340    0  ...      0      0.0      2   0     2       1\n",
              "17   66    0   3       150   226    0  ...      0      2.6      0   0     2       1\n",
              "18   43    1   0       150   247    0  ...      0      1.5      2   0     2       1\n",
              "19   69    0   3       140   239    0  ...      0      1.8      2   2     2       1\n",
              "\n",
              "[20 rows x 14 columns]"
            ]
          },
          "metadata": {
            "tags": []
          },
          "execution_count": 4
        }
      ]
    },
    {
      "cell_type": "code",
      "metadata": {
        "colab": {
          "base_uri": "https://localhost:8080/"
        },
        "id": "nHv4DWZtEck0",
        "outputId": "93d0d41a-4ccc-4230-e22e-ac47c09e20e3"
      },
      "source": [
        "dataset.info()"
      ],
      "execution_count": null,
      "outputs": [
        {
          "output_type": "stream",
          "text": [
            "<class 'pandas.core.frame.DataFrame'>\n",
            "RangeIndex: 303 entries, 0 to 302\n",
            "Data columns (total 14 columns):\n",
            " #   Column    Non-Null Count  Dtype  \n",
            "---  ------    --------------  -----  \n",
            " 0   age       303 non-null    int64  \n",
            " 1   sex       303 non-null    int64  \n",
            " 2   cp        303 non-null    int64  \n",
            " 3   trestbps  303 non-null    int64  \n",
            " 4   chol      303 non-null    int64  \n",
            " 5   fbs       303 non-null    int64  \n",
            " 6   restecg   303 non-null    int64  \n",
            " 7   thalach   303 non-null    int64  \n",
            " 8   exang     303 non-null    int64  \n",
            " 9   oldpeak   303 non-null    float64\n",
            " 10  slope     303 non-null    int64  \n",
            " 11  ca        303 non-null    int64  \n",
            " 12  thal      303 non-null    int64  \n",
            " 13  target    303 non-null    int64  \n",
            "dtypes: float64(1), int64(13)\n",
            "memory usage: 33.3 KB\n"
          ],
          "name": "stdout"
        }
      ]
    },
    {
      "cell_type": "code",
      "metadata": {
        "id": "Fwv8rt8lEfeB"
      },
      "source": [
        "import seaborn as sns\n",
        "%matplotlib inline\n",
        "from matplotlib import pyplot as plt"
      ],
      "execution_count": null,
      "outputs": []
    },
    {
      "cell_type": "code",
      "metadata": {
        "colab": {
          "base_uri": "https://localhost:8080/",
          "height": 281
        },
        "id": "-glu77vlEiBq",
        "outputId": "f7e34abc-029d-4056-8490-37081c36aacd"
      },
      "source": [
        "f = sns.countplot(x='target', data=dataset)\n",
        "f.set_title(\"Heart disease distribution\")\n",
        "f.set_xticklabels(['No Heart disease', 'Heart Disease'])\n",
        "plt.xlabel(\"\");"
      ],
      "execution_count": null,
      "outputs": [
        {
          "output_type": "display_data",
          "data": {
            "image/png": "[encoded data removed]",
            "text/plain": [
              "<Figure size 432x288 with 1 Axes>"
            ]
          },
          "metadata": {
            "tags": [],
            "needs_background": "light"
          }
        }
      ]
    },
    {
      "cell_type": "code",
      "metadata": {
        "colab": {
          "base_uri": "https://localhost:8080/",
          "height": 281
        },
        "id": "0yNUBqu1Elvq",
        "outputId": "1bbbb19a-997a-4005-f95a-ef01b0c26107"
      },
      "source": [
        "f = sns.countplot(x='target', data=dataset, hue='sex')\n",
        "plt.legend(['Female', 'Male'])\n",
        "f.set_title(\"Heart disease by gender\")\n",
        "f.set_xticklabels(['No Heart disease', 'Heart Disease'])\n",
        "plt.xlabel(\"\");"
      ],
      "execution_count": null,
      "outputs": [
        {
          "output_type": "display_data",
          "data": {
            "image/png": "[encoded data removed]",
            "text/plain": [
              "<Figure size 432x288 with 1 Axes>"
            ]
          },
          "metadata": {
            "tags": [],
            "needs_background": "light"
          }
        }
      ]
    },
    {
      "cell_type": "code",
      "metadata": {
        "colab": {
          "base_uri": "https://localhost:8080/",
          "height": 295
        },
        "id": "UQv34Y1VEoTh",
        "outputId": "89b70bb7-b989-4f2e-c4c1-5f463774228a"
      },
      "source": [
        "heat_map = sns.heatmap(dataset.corr(method='pearson'), annot=True, fmt='.2f', linewidths=2)\n",
        "heat_map.set_xticklabels(heat_map.get_xticklabels(), rotation=45);\n",
        "plt.rcParams[\"figure.figsize\"] = (50,50)"
      ],
      "execution_count": null,
      "outputs": [
        {
          "output_type": "display_data",
          "data": {
            "image/png": "[encoded data removed]",
            "text/plain": [
              "<Figure size 432x288 with 2 Axes>"
            ]
          },
          "metadata": {
            "tags": [],
            "needs_background": "light"
          }
        }
      ]
    },
    {
      "cell_type": "code",
      "metadata": {
        "id": "FyBINCUIErQG"
      },
      "source": [
        "X = dataset.iloc[:, 3:-1].values\n",
        "y = dataset.iloc[:, -1].values"
      ],
      "execution_count": null,
      "outputs": []
    },
    {
      "cell_type": "code",
      "metadata": {
        "id": "cmiJ1DViEvGC"
      },
      "source": [
        "# importing pandas profiling and warning filters\n",
        "import pandas_profiling as pp\n",
        "import warnings\n",
        "warnings.filterwarnings('ignore')\n",
        "%matplotlib inline"
      ],
      "execution_count": null,
      "outputs": []
    },
    {
      "cell_type": "code",
      "metadata": {
        "id": "OtQGMS13Exk0"
      },
      "source": [
        "#Splitting the dataset into the Training set and Test set for validation\n",
        "#Normalization, scaling and transformation\n",
        "from sklearn.model_selection import train_test_split\n",
        "X_train, X_test, y_train, y_test = train_test_split(X, y, test_size = 0.2, random_state = 0)"
      ],
      "execution_count": null,
      "outputs": []
    },
    {
      "cell_type": "code",
      "metadata": {
        "id": "lIDmtR50E0U-"
      },
      "source": [
        "# Normalization, scaling and transformation\n",
        "from sklearn.preprocessing import StandardScaler\n",
        "sc = StandardScaler()\n",
        "X_train = sc.fit_transform(X_train)\n",
        "X_test = sc.transform(X_test)"
      ],
      "execution_count": null,
      "outputs": []
    },
    {
      "cell_type": "code",
      "metadata": {
        "id": "FrZNIR_3E2ki"
      },
      "source": [
        "#creation of an Artificial Neural Network as Deep Learning Model\n",
        "#initialization\n",
        "ann = tf.keras.models.Sequential()\n",
        "#Addition of the input layer and the first hidden layer, second hidden layer and the outer layer\n",
        "ann.add(tf.keras.layers.Dense(units=8, activation='relu'))\n",
        "ann.add(tf.keras.layers.Dense(units=8, activation='relu'))\n",
        "ann.add(tf.keras.layers.Dense(units=1, activation='sigmoid'))"
      ],
      "execution_count": null,
      "outputs": []
    },
    {
      "cell_type": "code",
      "metadata": {
        "id": "sn3jhmQIE5Fd"
      },
      "source": [
        "#Model Compilation\n",
        "ann.compile(optimizer = 'adam', loss = 'binary_crossentropy', metrics = ['accuracy'])"
      ],
      "execution_count": null,
      "outputs": []
    },
    {
      "cell_type": "code",
      "metadata": {
        "colab": {
          "base_uri": "https://localhost:8080/"
        },
        "id": "Zw40kv-iE77q",
        "outputId": "e01fdb2a-1680-4cea-cd3f-07e549687321"
      },
      "source": [
        "#training the model\n",
        "ann.fit(X_train, y_train, batch_size = 32, epochs = 75)"
      ],
      "execution_count": null,
      "outputs": [
        {
          "output_type": "stream",
          "text": [
            "Epoch 1/75\n",
            "8/8 [==============================] - 4s 3ms/step - loss: 0.6357 - accuracy: 0.6818\n",
            "Epoch 2/75\n",
            "8/8 [==============================] - 0s 3ms/step - loss: 0.6259 - accuracy: 0.6983\n",
            "Epoch 3/75\n",
            "8/8 [==============================] - 0s 3ms/step - loss: 0.6170 - accuracy: 0.7066\n",
            "Epoch 4/75\n",
            "8/8 [==============================] - 0s 3ms/step - loss: 0.6085 - accuracy: 0.7314\n",
            "Epoch 5/75\n",
            "8/8 [==============================] - 0s 3ms/step - loss: 0.6010 - accuracy: 0.7397\n",
            "Epoch 6/75\n",
            "8/8 [==============================] - 0s 3ms/step - loss: 0.5926 - accuracy: 0.7521\n",
            "Epoch 7/75\n",
            "8/8 [==============================] - 0s 3ms/step - loss: 0.5849 - accuracy: 0.7645\n",
            "Epoch 8/75\n",
            "8/8 [==============================] - 0s 3ms/step - loss: 0.5776 - accuracy: 0.7727\n",
            "Epoch 9/75\n",
            "8/8 [==============================] - 0s 3ms/step - loss: 0.5706 - accuracy: 0.7893\n",
            "Epoch 10/75\n",
            "8/8 [==============================] - 0s 3ms/step - loss: 0.5637 - accuracy: 0.7975\n",
            "Epoch 11/75\n",
            "8/8 [==============================] - 0s 3ms/step - loss: 0.5571 - accuracy: 0.7975\n",
            "Epoch 12/75\n",
            "8/8 [==============================] - 0s 3ms/step - loss: 0.5498 - accuracy: 0.8017\n",
            "Epoch 13/75\n",
            "8/8 [==============================] - 0s 3ms/step - loss: 0.5438 - accuracy: 0.8058\n",
            "Epoch 14/75\n",
            "8/8 [==============================] - 0s 3ms/step - loss: 0.5367 - accuracy: 0.8140\n",
            "Epoch 15/75\n",
            "8/8 [==============================] - 0s 4ms/step - loss: 0.5303 - accuracy: 0.8140\n",
            "Epoch 16/75\n",
            "8/8 [==============================] - 0s 3ms/step - loss: 0.5241 - accuracy: 0.8140\n",
            "Epoch 17/75\n",
            "8/8 [==============================] - 0s 4ms/step - loss: 0.5176 - accuracy: 0.8140\n",
            "Epoch 18/75\n",
            "8/8 [==============================] - 0s 3ms/step - loss: 0.5118 - accuracy: 0.8264\n",
            "Epoch 19/75\n",
            "8/8 [==============================] - 0s 3ms/step - loss: 0.5056 - accuracy: 0.8264\n",
            "Epoch 20/75\n",
            "8/8 [==============================] - 0s 3ms/step - loss: 0.5001 - accuracy: 0.8223\n",
            "Epoch 21/75\n",
            "8/8 [==============================] - 0s 3ms/step - loss: 0.4942 - accuracy: 0.8264\n",
            "Epoch 22/75\n",
            "8/8 [==============================] - 0s 4ms/step - loss: 0.4890 - accuracy: 0.8264\n",
            "Epoch 23/75\n",
            "8/8 [==============================] - 0s 3ms/step - loss: 0.4839 - accuracy: 0.8264\n",
            "Epoch 24/75\n",
            "8/8 [==============================] - 0s 3ms/step - loss: 0.4789 - accuracy: 0.8264\n",
            "Epoch 25/75\n",
            "8/8 [==============================] - 0s 3ms/step - loss: 0.4740 - accuracy: 0.8264\n",
            "Epoch 26/75\n",
            "8/8 [==============================] - 0s 3ms/step - loss: 0.4695 - accuracy: 0.8264\n",
            "Epoch 27/75\n",
            "8/8 [==============================] - 0s 3ms/step - loss: 0.4644 - accuracy: 0.8306\n",
            "Epoch 28/75\n",
            "8/8 [==============================] - 0s 4ms/step - loss: 0.4600 - accuracy: 0.8306\n",
            "Epoch 29/75\n",
            "8/8 [==============================] - 0s 3ms/step - loss: 0.4559 - accuracy: 0.8306\n",
            "Epoch 30/75\n",
            "8/8 [==============================] - 0s 3ms/step - loss: 0.4518 - accuracy: 0.8306\n",
            "Epoch 31/75\n",
            "8/8 [==============================] - 0s 3ms/step - loss: 0.4478 - accuracy: 0.8347\n",
            "Epoch 32/75\n",
            "8/8 [==============================] - 0s 3ms/step - loss: 0.4443 - accuracy: 0.8347\n",
            "Epoch 33/75\n",
            "8/8 [==============================] - 0s 3ms/step - loss: 0.4406 - accuracy: 0.8306\n",
            "Epoch 34/75\n",
            "8/8 [==============================] - 0s 3ms/step - loss: 0.4372 - accuracy: 0.8264\n",
            "Epoch 35/75\n",
            "8/8 [==============================] - 0s 3ms/step - loss: 0.4338 - accuracy: 0.8264\n",
            "Epoch 36/75\n",
            "8/8 [==============================] - 0s 3ms/step - loss: 0.4306 - accuracy: 0.8264\n",
            "Epoch 37/75\n",
            "8/8 [==============================] - 0s 3ms/step - loss: 0.4273 - accuracy: 0.8264\n",
            "Epoch 38/75\n",
            "8/8 [==============================] - 0s 3ms/step - loss: 0.4240 - accuracy: 0.8264\n",
            "Epoch 39/75\n",
            "8/8 [==============================] - 0s 3ms/step - loss: 0.4211 - accuracy: 0.8223\n",
            "Epoch 40/75\n",
            "8/8 [==============================] - 0s 3ms/step - loss: 0.4183 - accuracy: 0.8223\n",
            "Epoch 41/75\n",
            "8/8 [==============================] - 0s 3ms/step - loss: 0.4155 - accuracy: 0.8223\n",
            "Epoch 42/75\n",
            "8/8 [==============================] - 0s 3ms/step - loss: 0.4132 - accuracy: 0.8223\n",
            "Epoch 43/75\n",
            "8/8 [==============================] - 0s 3ms/step - loss: 0.4109 - accuracy: 0.8223\n",
            "Epoch 44/75\n",
            "8/8 [==============================] - 0s 4ms/step - loss: 0.4086 - accuracy: 0.8264\n",
            "Epoch 45/75\n",
            "8/8 [==============================] - 0s 3ms/step - loss: 0.4063 - accuracy: 0.8264\n",
            "Epoch 46/75\n",
            "8/8 [==============================] - 0s 3ms/step - loss: 0.4044 - accuracy: 0.8223\n",
            "Epoch 47/75\n",
            "8/8 [==============================] - 0s 3ms/step - loss: 0.4022 - accuracy: 0.8223\n",
            "Epoch 48/75\n",
            "8/8 [==============================] - 0s 3ms/step - loss: 0.4003 - accuracy: 0.8264\n",
            "Epoch 49/75\n",
            "8/8 [==============================] - 0s 3ms/step - loss: 0.3982 - accuracy: 0.8264\n",
            "Epoch 50/75\n",
            "8/8 [==============================] - 0s 4ms/step - loss: 0.3969 - accuracy: 0.8223\n",
            "Epoch 51/75\n",
            "8/8 [==============================] - 0s 3ms/step - loss: 0.3949 - accuracy: 0.8223\n",
            "Epoch 52/75\n",
            "8/8 [==============================] - 0s 3ms/step - loss: 0.3932 - accuracy: 0.8223\n",
            "Epoch 53/75\n",
            "8/8 [==============================] - 0s 3ms/step - loss: 0.3917 - accuracy: 0.8223\n",
            "Epoch 54/75\n",
            "8/8 [==============================] - 0s 3ms/step - loss: 0.3900 - accuracy: 0.8223\n",
            "Epoch 55/75\n",
            "8/8 [==============================] - 0s 3ms/step - loss: 0.3888 - accuracy: 0.8264\n",
            "Epoch 56/75\n",
            "8/8 [==============================] - 0s 4ms/step - loss: 0.3872 - accuracy: 0.8264\n",
            "Epoch 57/75\n",
            "8/8 [==============================] - 0s 3ms/step - loss: 0.3858 - accuracy: 0.8264\n",
            "Epoch 58/75\n",
            "8/8 [==============================] - 0s 3ms/step - loss: 0.3845 - accuracy: 0.8264\n",
            "Epoch 59/75\n",
            "8/8 [==============================] - 0s 3ms/step - loss: 0.3830 - accuracy: 0.8388\n",
            "Epoch 60/75\n",
            "8/8 [==============================] - 0s 3ms/step - loss: 0.3818 - accuracy: 0.8388\n",
            "Epoch 61/75\n",
            "8/8 [==============================] - 0s 3ms/step - loss: 0.3800 - accuracy: 0.8347\n",
            "Epoch 62/75\n",
            "8/8 [==============================] - 0s 3ms/step - loss: 0.3788 - accuracy: 0.8347\n",
            "Epoch 63/75\n",
            "8/8 [==============================] - 0s 4ms/step - loss: 0.3777 - accuracy: 0.8347\n",
            "Epoch 64/75\n",
            "8/8 [==============================] - 0s 3ms/step - loss: 0.3762 - accuracy: 0.8306\n",
            "Epoch 65/75\n",
            "8/8 [==============================] - 0s 4ms/step - loss: 0.3751 - accuracy: 0.8347\n",
            "Epoch 66/75\n",
            "8/8 [==============================] - 0s 3ms/step - loss: 0.3739 - accuracy: 0.8388\n",
            "Epoch 67/75\n",
            "8/8 [==============================] - 0s 3ms/step - loss: 0.3727 - accuracy: 0.8430\n",
            "Epoch 68/75\n",
            "8/8 [==============================] - 0s 3ms/step - loss: 0.3716 - accuracy: 0.8430\n",
            "Epoch 69/75\n",
            "8/8 [==============================] - 0s 4ms/step - loss: 0.3707 - accuracy: 0.8430\n",
            "Epoch 70/75\n",
            "8/8 [==============================] - 0s 3ms/step - loss: 0.3696 - accuracy: 0.8430\n",
            "Epoch 71/75\n",
            "8/8 [==============================] - 0s 3ms/step - loss: 0.3685 - accuracy: 0.8430\n",
            "Epoch 72/75\n",
            "8/8 [==============================] - 0s 3ms/step - loss: 0.3676 - accuracy: 0.8430\n",
            "Epoch 73/75\n",
            "8/8 [==============================] - 0s 3ms/step - loss: 0.3665 - accuracy: 0.8471\n",
            "Epoch 74/75\n",
            "8/8 [==============================] - 0s 4ms/step - loss: 0.3654 - accuracy: 0.8471\n",
            "Epoch 75/75\n",
            "8/8 [==============================] - 0s 3ms/step - loss: 0.3643 - accuracy: 0.8430\n"
          ],
          "name": "stdout"
        },
        {
          "output_type": "execute_result",
          "data": {
            "text/plain": [
              "<tensorflow.python.keras.callbacks.History at 0x7fb2b00a2c10>"
            ]
          },
          "metadata": {
            "tags": []
          },
          "execution_count": 16
        }
      ]
    },
    {
      "cell_type": "code",
      "metadata": {
        "colab": {
          "base_uri": "https://localhost:8080/"
        },
        "id": "2aKwsmLWFBMW",
        "outputId": "16596c52-2004-40dd-8eac-94d6935cbcbe"
      },
      "source": [
        "#Visualization of the rules, trends or patterns\n",
        "#Predicting the Test set results without supervision thus unsupervised learning\n",
        "#this is an implemententation of deep learning neural network using ANN\n",
        "y_pred = ann.predict(X_test)\n",
        "y_pred = (y_pred > 0.5)\n",
        "print(np.concatenate((y_pred.reshape(len(y_pred),1), y_test.reshape(len(y_test),1)),1))"
      ],
      "execution_count": null,
      "outputs": [
        {
          "output_type": "stream",
          "text": [
            "[[0 0]\n",
            " [1 1]\n",
            " [1 0]\n",
            " [0 0]\n",
            " [0 1]\n",
            " [1 0]\n",
            " [0 0]\n",
            " [0 0]\n",
            " [0 0]\n",
            " [0 0]\n",
            " [1 1]\n",
            " [1 1]\n",
            " [0 0]\n",
            " [1 1]\n",
            " [1 1]\n",
            " [0 1]\n",
            " [0 1]\n",
            " [1 1]\n",
            " [0 0]\n",
            " [1 1]\n",
            " [1 1]\n",
            " [0 0]\n",
            " [0 0]\n",
            " [0 0]\n",
            " [1 1]\n",
            " [0 0]\n",
            " [1 0]\n",
            " [1 0]\n",
            " [1 1]\n",
            " [1 1]\n",
            " [1 0]\n",
            " [0 0]\n",
            " [1 1]\n",
            " [1 1]\n",
            " [1 1]\n",
            " [0 0]\n",
            " [0 0]\n",
            " [1 1]\n",
            " [0 0]\n",
            " [0 0]\n",
            " [1 1]\n",
            " [1 1]\n",
            " [1 1]\n",
            " [0 0]\n",
            " [0 1]\n",
            " [1 1]\n",
            " [1 1]\n",
            " [0 0]\n",
            " [0 0]\n",
            " [1 1]\n",
            " [1 1]\n",
            " [0 1]\n",
            " [1 1]\n",
            " [1 1]\n",
            " [1 1]\n",
            " [0 0]\n",
            " [1 1]\n",
            " [1 0]\n",
            " [1 1]\n",
            " [1 1]\n",
            " [1 1]]\n"
          ],
          "name": "stdout"
        }
      ]
    },
    {
      "cell_type": "code",
      "metadata": {
        "colab": {
          "base_uri": "https://localhost:8080/"
        },
        "id": "A6iSbzFkFEjb",
        "outputId": "d3ba6d92-0781-48fb-84c2-8a00c6884eb7"
      },
      "source": [
        "#making a confusion matrix inorder to describe the performance of the model\n",
        "#Model evaluation technique\n",
        "#our prediction was based on the test data and its accuracy\n",
        "from sklearn.metrics import confusion_matrix, accuracy_score\n",
        "cm = confusion_matrix(y_test, y_pred)\n",
        "print(cm)\n",
        "print(\"Accuracy: {:.2f}%\".format(accuracy_score(y_test, y_pred)*100))"
      ],
      "execution_count": null,
      "outputs": [
        {
          "output_type": "stream",
          "text": [
            "[[21  6]\n",
            " [ 5 29]]\n",
            "Accuracy: 81.97%\n"
          ],
          "name": "stdout"
        }
      ]
    },
    {
      "cell_type": "code",
      "metadata": {
        "id": "BAZZww0bFLMj",
        "colab": {
          "base_uri": "https://localhost:8080/"
        },
        "outputId": "ff1713fb-3895-44e9-9517-400a3ec66d86"
      },
      "source": [
        "from sklearn.naive_bayes import MultinomialNB\n",
        "multiNB = MultinomialNB()\n",
        "\n",
        "multiNB.fit(y_pred, y_test)\n",
        "accuracy5 = multiNB.score(y_pred, y_test)\n",
        "print('Multinomial NB Accuracy -->',((accuracy5)*100))"
      ],
      "execution_count": null,
      "outputs": [
        {
          "output_type": "stream",
          "text": [
            "Multinomial NB Accuracy --> 55.73770491803278\n"
          ],
          "name": "stdout"
        }
      ]
    }
  ]
}